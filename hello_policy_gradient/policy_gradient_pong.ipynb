{
 "cells": [
  {
   "cell_type": "markdown",
   "source": [
    "# Policy Gradient Pong"
   ],
   "metadata": {
    "collapsed": false
   }
  },
  {
   "cell_type": "markdown",
   "source": [
    "## Imports"
   ],
   "metadata": {
    "collapsed": false
   }
  },
  {
   "cell_type": "code",
   "execution_count": 1,
   "metadata": {
    "collapsed": true
   },
   "outputs": [],
   "source": [
    "%load_ext autoreload\n",
    "%autoreload 2\n",
    "\n",
    "import gym\n",
    "import sys\n",
    "import numpy as np\n",
    "from tensorboardX import SummaryWriter\n",
    "\n",
    "from config import D, H, resume, render, batch_size\n",
    "from model import PolicyGradientPongAgent\n",
    "from utils import discount_rewards\n",
    "from data_preprocessing import preprocessing\n",
    "from steve_rl.math import normalize\n",
    "\n",
    "sys.path.append('../')\n",
    "writer = SummaryWriter(logdir='./logs')"
   ]
  },
  {
   "cell_type": "markdown",
   "source": [
    "## Model initialization\n",
    "\n",
    "This model is a 2-layer Perceptron, if we write it in `Pytorch`, it would be:\n",
    "\n",
    "```python\n",
    "torch.Sequentail(\n",
    "    torch.Linear(80*80, 200),\n",
    "    torch.ReLU(),\n",
    "    torch.Linear(200, 1),\n",
    "    torch.Sigmoid()\n",
    ")\n",
    "```"
   ],
   "metadata": {
    "collapsed": false
   }
  },
  {
   "cell_type": "code",
   "execution_count": 2,
   "outputs": [],
   "source": [
    "# model initialization\n",
    "model = PolicyGradientPongAgent(input_dim=D, hidden_dim=H)\n",
    "if resume:\n",
    "    model.load_model('save.p')"
   ],
   "metadata": {
    "collapsed": false
   }
  },
  {
   "cell_type": "markdown",
   "source": [
    "## Train loop\n",
    "\n",
    "![](./imgs/computational_graph.png)"
   ],
   "metadata": {
    "collapsed": false
   }
  },
  {
   "cell_type": "code",
   "execution_count": 5,
   "outputs": [],
   "source": [
    "env = gym.make(\"Pong-v4\")\n",
    "observation = env.reset()\n",
    "observation = env.reset()\n",
    "\n",
    "prev_x = None # used in computing the difference frame in an episode\n",
    "xs = []  # list of input x, x is actually the frame difference in an episode\n",
    "hs = []  # list of hidden states in an episode\n",
    "dlogps = []  # list of delta of log probabilities of taking action 2 in an episode\n",
    "drs = []  # the list of reward in an episode\n",
    "running_reward = None  # the running average of `reward_sum`s\n",
    "reward_sum = 0  # the reward of one episode(21 games, should be in range (-21, 21))\n",
    "episode_number = 0  # the number of episode\n",
    "\n",
    "\n",
    "while True:\n",
    "    # one loop will go through one step, i.e. one frame in the game\n",
    "    if render:\n",
    "        env.render()\n",
    "\n",
    "    # 1. preprocess the observation, set input to network to be difference image\n",
    "    cur_x = preprocessing(observation)\n",
    "    x = cur_x - prev_x if prev_x is not None else np.zeros(D)\n",
    "    prev_x = cur_x\n",
    "\n",
    "    # 2. forward the policy network and sample an action from the returned probability\n",
    "    aprob, h = model.forward(x)\n",
    "    action = 2 if np.random.uniform() < aprob else 3 # roll the dice!\n",
    "\n",
    "    # record various intermediates (needed later for backprop)\n",
    "    xs.append(x) # observation\n",
    "    hs.append(h) # hidden state\n",
    "    y = 1 if action == 2 else 0 # a \"fake label\"\n",
    "    dlogps.append(y - aprob) # grad that encourages the action that was taken to be taken (see http://cs231n.github.io/neural-networks-2/#losses if confused), say: we take action 2, with aprob = 0.8, then dlogps.append(0.2), i.e. increase the prob of taking action 2,  if we take action 3 with aprob = 0.8, then dlogps.append(-0.8), increase the prob of taking action 3\n",
    "\n",
    "    # 3. step the environment and get new measurements\n",
    "    observation, reward, done, info = env.step(action)\n",
    "    reward_sum += reward\n",
    "\n",
    "    drs.append(reward) # record reward (has to be done after we call step() to get reward for previous action)\n",
    "\n",
    "    if done: # an episode finished\n",
    "        episode_number += 1\n",
    "\n",
    "        # stack together all inputs, hidden states, action gradients, and rewards for this episode\n",
    "        epx, eph, epdlogp, epr = np.vstack(xs), np.vstack(hs), np.vstack(dlogps), np.vstack(drs)\n",
    "        xs, hs, dlogps, drs = [],[],[],[] # reset array memory for next episode\n",
    "\n",
    "        # compute the discounted reward backwards through time and standardize\n",
    "        discounted_epr = normalize(discount_rewards(epr))\n",
    "        epdlogp *= discounted_epr # modulate the gradient with advantage (PG magic happens right here.)\n",
    "        grad = model.backward(eph, epx, epdlogp)\n",
    "\n",
    "        # perform rmsprop parameter update every batch_size episodes\n",
    "        if episode_number % batch_size == 0:\n",
    "            model.update_weights()\n",
    "\n",
    "        # boring bookkeeping\n",
    "        running_reward = reward_sum if running_reward is None else running_reward * 0.99 + reward_sum * 0.01\n",
    "        writer.add_scalar('data/reward', reward_sum, episode_number)\n",
    "        print(f'resetting env. episode reward total was {reward_sum:.1f}. running mean: {running_reward :.1f}')\n",
    "\n",
    "        if episode_number % 100 == 0:\n",
    "            print('saving model at: save.p')\n",
    "            model.save_model_weights('save.p')\n",
    "\n",
    "        reward_sum = 0\n",
    "        observation = env.reset() # reset env\n",
    "        prev_x = None\n",
    "\n",
    "    if reward != 0: # Pong has either +1 or -1 reward exactly when game ends.\n",
    "        print (f'ep {episode_number}: game finished, reward: {reward:.1f}' + ('' if reward == -1 else ' !!!!!!!!'))"
   ],
   "metadata": {
    "collapsed": false
   }
  }
 ],
 "metadata": {
  "kernelspec": {
   "display_name": "Python 3",
   "language": "python",
   "name": "python3"
  },
  "language_info": {
   "codemirror_mode": {
    "name": "ipython",
    "version": 2
   },
   "file_extension": ".py",
   "mimetype": "text/x-python",
   "name": "python",
   "nbconvert_exporter": "python",
   "pygments_lexer": "ipython2",
   "version": "2.7.6"
  }
 },
 "nbformat": 4,
 "nbformat_minor": 0
}
